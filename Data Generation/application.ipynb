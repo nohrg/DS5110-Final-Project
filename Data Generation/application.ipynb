{
 "cells": [
  {
   "cell_type": "code",
   "execution_count": 87,
   "metadata": {},
   "outputs": [],
   "source": [
    "import pandas as pd\n",
    "import numpy as np\n",
    "import random"
   ]
  },
  {
   "cell_type": "markdown",
   "metadata": {},
   "source": [
    "Assumption: 536 total student accounts\n",
    "\n",
    "Using the distribution of the number of apps, we get 3901 total apps: 3043 to the 20 most popular colleges, 858 to all the rest.\n",
    "\n",
    "Of those 3901 applications, there will be 536 early decision/admission apps, and the remainder are regular decision. The choice to bucket early admission and decision together is for simplicity, so that we don't have to look up which university does what type of early application.\n"
   ]
  },
  {
   "cell_type": "code",
   "execution_count": 88,
   "metadata": {},
   "outputs": [
    {
     "data": {
      "text/html": [
       "<div>\n",
       "<style scoped>\n",
       "    .dataframe tbody tr th:only-of-type {\n",
       "        vertical-align: middle;\n",
       "    }\n",
       "\n",
       "    .dataframe tbody tr th {\n",
       "        vertical-align: top;\n",
       "    }\n",
       "\n",
       "    .dataframe thead th {\n",
       "        text-align: right;\n",
       "    }\n",
       "</style>\n",
       "<table border=\"1\" class=\"dataframe\">\n",
       "  <thead>\n",
       "    <tr style=\"text-align: right;\">\n",
       "      <th></th>\n",
       "      <th>institution_name</th>\n",
       "      <th>state</th>\n",
       "      <th>region</th>\n",
       "      <th>year</th>\n",
       "      <th>student_count</th>\n",
       "      <th>percent_admitted</th>\n",
       "      <th>percent_admitted_men</th>\n",
       "      <th>percent_admitted_women</th>\n",
       "      <th>yield_total</th>\n",
       "      <th>yield_men</th>\n",
       "      <th>yield_women</th>\n",
       "    </tr>\n",
       "    <tr>\n",
       "      <th>university_id</th>\n",
       "      <th></th>\n",
       "      <th></th>\n",
       "      <th></th>\n",
       "      <th></th>\n",
       "      <th></th>\n",
       "      <th></th>\n",
       "      <th></th>\n",
       "      <th></th>\n",
       "      <th></th>\n",
       "      <th></th>\n",
       "      <th></th>\n",
       "    </tr>\n",
       "  </thead>\n",
       "  <tbody>\n",
       "    <tr>\n",
       "      <th>110404</th>\n",
       "      <td>California Institute of Technology</td>\n",
       "      <td>California</td>\n",
       "      <td>Far West (AK, CA, HI, NV, OR, WA)</td>\n",
       "      <td>2022</td>\n",
       "      <td>2518</td>\n",
       "      <td>3</td>\n",
       "      <td>2.0</td>\n",
       "      <td>4.0</td>\n",
       "      <td>50</td>\n",
       "      <td>55.0</td>\n",
       "      <td>46.0</td>\n",
       "    </tr>\n",
       "    <tr>\n",
       "      <th>166027</th>\n",
       "      <td>Harvard University</td>\n",
       "      <td>Massachusetts</td>\n",
       "      <td>New England (CT, ME, MA, NH, RI, VT)</td>\n",
       "      <td>2022</td>\n",
       "      <td>37613</td>\n",
       "      <td>3</td>\n",
       "      <td>3.0</td>\n",
       "      <td>3.0</td>\n",
       "      <td>83</td>\n",
       "      <td>81.0</td>\n",
       "      <td>84.0</td>\n",
       "    </tr>\n",
       "    <tr>\n",
       "      <th>166683</th>\n",
       "      <td>Massachusetts Institute of Technology</td>\n",
       "      <td>Massachusetts</td>\n",
       "      <td>New England (CT, ME, MA, NH, RI, VT)</td>\n",
       "      <td>2022</td>\n",
       "      <td>12829</td>\n",
       "      <td>4</td>\n",
       "      <td>3.0</td>\n",
       "      <td>6.0</td>\n",
       "      <td>85</td>\n",
       "      <td>88.0</td>\n",
       "      <td>82.0</td>\n",
       "    </tr>\n",
       "    <tr>\n",
       "      <th>190150</th>\n",
       "      <td>Columbia University in the City of New York</td>\n",
       "      <td>New York</td>\n",
       "      <td>Mid East (DE, DC, MD, NJ, NY, PA)</td>\n",
       "      <td>2022</td>\n",
       "      <td>37954</td>\n",
       "      <td>4</td>\n",
       "      <td>5.0</td>\n",
       "      <td>3.0</td>\n",
       "      <td>64</td>\n",
       "      <td>64.0</td>\n",
       "      <td>63.0</td>\n",
       "    </tr>\n",
       "    <tr>\n",
       "      <th>243744</th>\n",
       "      <td>Stanford University</td>\n",
       "      <td>California</td>\n",
       "      <td>Far West (AK, CA, HI, NV, OR, WA)</td>\n",
       "      <td>2022</td>\n",
       "      <td>20955</td>\n",
       "      <td>4</td>\n",
       "      <td>3.0</td>\n",
       "      <td>4.0</td>\n",
       "      <td>84</td>\n",
       "      <td>84.0</td>\n",
       "      <td>84.0</td>\n",
       "    </tr>\n",
       "  </tbody>\n",
       "</table>\n",
       "</div>"
      ],
      "text/plain": [
       "                                          institution_name          state  \\\n",
       "university_id                                                               \n",
       "110404                  California Institute of Technology     California   \n",
       "166027                                  Harvard University  Massachusetts   \n",
       "166683               Massachusetts Institute of Technology  Massachusetts   \n",
       "190150         Columbia University in the City of New York       New York   \n",
       "243744                                 Stanford University     California   \n",
       "\n",
       "                                             region  year  student_count  \\\n",
       "university_id                                                              \n",
       "110404            Far West (AK, CA, HI, NV, OR, WA)  2022           2518   \n",
       "166027         New England (CT, ME, MA, NH, RI, VT)  2022          37613   \n",
       "166683         New England (CT, ME, MA, NH, RI, VT)  2022          12829   \n",
       "190150            Mid East (DE, DC, MD, NJ, NY, PA)  2022          37954   \n",
       "243744            Far West (AK, CA, HI, NV, OR, WA)  2022          20955   \n",
       "\n",
       "               percent_admitted  percent_admitted_men  percent_admitted_women  \\\n",
       "university_id                                                                   \n",
       "110404                        3                   2.0                     4.0   \n",
       "166027                        3                   3.0                     3.0   \n",
       "166683                        4                   3.0                     6.0   \n",
       "190150                        4                   5.0                     3.0   \n",
       "243744                        4                   3.0                     4.0   \n",
       "\n",
       "               yield_total  yield_men  yield_women  \n",
       "university_id                                       \n",
       "110404                  50       55.0         46.0  \n",
       "166027                  83       81.0         84.0  \n",
       "166683                  85       88.0         82.0  \n",
       "190150                  64       64.0         63.0  \n",
       "243744                  84       84.0         84.0  "
      ]
     },
     "execution_count": 88,
     "metadata": {},
     "output_type": "execute_result"
    }
   ],
   "source": [
    "universities = pd.read_csv('UNIVERSITIES.csv', header=[0], index_col=[0])\n",
    "universities.head()"
   ]
  },
  {
   "cell_type": "code",
   "execution_count": null,
   "metadata": {},
   "outputs": [],
   "source": [
    "popular_unis = [\n",
    "    \"Harvard University\",\n",
    "    \"Boston College\",\n",
    "    \"Brown University\",\n",
    "    \"Dartmouth College\",\n",
    "    \"Middlebury College\" ,\n",
    "    \"Georgetown University\",\n",
    "    \"Bowdoin College\",\n",
    "    \"Williams College\",\n",
    "    \"Tufts University\",\n",
    "    \"Duke University\",\n",
    "    \"Colby College\",\n",
    "    \"Princeton University\",\n",
    "    \"Cornell University\",\n",
    "    \"Yale University\",\n",
    "    \"University of Virginia-Main Campus\",\n",
    "    \"Hamilton College\",\n",
    "    \"Bates College\",\n",
    "    \"Boston University\",\n",
    "    \"University of Chicago\",\n",
    "    \"Columbia University in the City of New York\"]\n",
    "\n",
    "distribution = [.116, .091, .077, .077, .064, .051, .051, .051, .051 ,.051,\n",
    "                .038, .038, .038, .038, .038, .026, .026, .026, .026, .026]\n",
    "# 78% of schools applied to are in this group\n",
    "# distribution is how much of that 78%"
   ]
  },
  {
   "cell_type": "code",
   "execution_count": 92,
   "metadata": {},
   "outputs": [
    {
     "data": {
      "text/plain": [
       "3043"
      ]
     },
     "execution_count": 92,
     "metadata": {},
     "output_type": "execute_result"
    }
   ],
   "source": [
    "pop_picks = random.choices(population=popular_unis, weights = distribution, k=3043)\n",
    "len(pop_picks)"
   ]
  },
  {
   "cell_type": "code",
   "execution_count": 93,
   "metadata": {},
   "outputs": [
    {
     "name": "stdout",
     "output_type": "stream",
     "text": [
      "Harvard University: 316\n",
      "Boston College: 282\n",
      "Brown University: 231\n",
      "Dartmouth College: 251\n",
      "Middlebury College: 179\n",
      "Georgetown University: 173\n",
      "Bowdoin College: 158\n",
      "Williams College: 169\n",
      "Tufts University: 154\n",
      "Duke University: 179\n",
      "Colby College: 103\n",
      "Princeton University: 97\n",
      "Cornell University: 112\n",
      "Yale University: 106\n",
      "University of Virginia-Main Campus: 134\n",
      "Hamilton College: 95\n",
      "Bates College: 69\n",
      "Boston University: 87\n",
      "University of Chicago: 75\n",
      "Columbia University in the City of New York: 73\n"
     ]
    }
   ],
   "source": [
    "for uni in popular_unis:\n",
    "    print(f\"{uni}: {pop_picks.count(uni)}\")"
   ]
  },
  {
   "cell_type": "code",
   "execution_count": null,
   "metadata": {},
   "outputs": [],
   "source": [
    "pop_apps = []\n",
    "# converting names to IDs\n",
    "# a few in the \"all the rest\" category have same names so this cuts down\n",
    "# on the confusion\n",
    "for i in range(len(pop_picks)):\n",
    "    pop_apps.append(universities[universities['institution_name']==pop_picks[i]].index.item())"
   ]
  },
  {
   "cell_type": "code",
   "execution_count": 95,
   "metadata": {},
   "outputs": [],
   "source": [
    "regions = [\n",
    "\"New England (CT, ME, MA, NH, RI, VT)\",\n",
    "\"Mid East (DE, DC, MD, NJ, NY, PA)\",\n",
    "\"Southeast (AL, AR, FL, GA, KY, LA, MS, NC, SC, TN, VA, WV)\",\n",
    "\"Great Lakes (IL, IN, MI, OH, WI)\",\n",
    "\"Far West (AK, CA, HI, NV, OR, WA)\",\n",
    "\"Plains (IA, KS, MN, MO, NE, ND, SD)\",\n",
    "\"Rocky Mountains (CO, ID, MT, UT, WY)\",\n",
    "\"Southwest (AZ, NM, OK, TX)\",\n",
    "\n",
    "]\n",
    "region_distribution = [.39, .22, .13, .09, .08, .03, .03, .033]"
   ]
  },
  {
   "cell_type": "code",
   "execution_count": 96,
   "metadata": {},
   "outputs": [],
   "source": [
    "all_the_rest_regions = random.choices(population=regions, weights = region_distribution, k=858)"
   ]
  },
  {
   "cell_type": "code",
   "execution_count": 97,
   "metadata": {},
   "outputs": [
    {
     "name": "stdout",
     "output_type": "stream",
     "text": [
      "New England (CT, ME, MA, NH, RI, VT): 341\n",
      "Mid East (DE, DC, MD, NJ, NY, PA): 175\n",
      "Southeast (AL, AR, FL, GA, KY, LA, MS, NC, SC, TN, VA, WV): 111\n",
      "Great Lakes (IL, IN, MI, OH, WI): 77\n",
      "Far West (AK, CA, HI, NV, OR, WA): 73\n",
      "Plains (IA, KS, MN, MO, NE, ND, SD): 23\n",
      "Rocky Mountains (CO, ID, MT, UT, WY): 29\n",
      "Southwest (AZ, NM, OK, TX): 29\n"
     ]
    }
   ],
   "source": [
    "for region in regions:\n",
    "    print(f\"{region}: {all_the_rest_regions.count(region)}\")"
   ]
  },
  {
   "cell_type": "code",
   "execution_count": 106,
   "metadata": {},
   "outputs": [],
   "source": [
    "# removing the popular unis from the list in order to generate the remaining 858 apps\n",
    "all_the_rest = universities[~universities['institution_name'].isin(popular_unis)]"
   ]
  },
  {
   "cell_type": "code",
   "execution_count": 99,
   "metadata": {},
   "outputs": [
    {
     "data": {
      "text/plain": [
       "858"
      ]
     },
     "execution_count": 99,
     "metadata": {},
     "output_type": "execute_result"
    }
   ],
   "source": [
    "atr_uni_picks = []\n",
    "for region in all_the_rest_regions:\n",
    "    uni = all_the_rest[all_the_rest['region'] == region].sample(n=1)\n",
    "    atr_uni_picks.append(uni.index.item())\n",
    "len(atr_uni_picks)"
   ]
  },
  {
   "cell_type": "code",
   "execution_count": null,
   "metadata": {},
   "outputs": [
    {
     "data": {
      "text/plain": [
       "3901"
      ]
     },
     "execution_count": 101,
     "metadata": {},
     "output_type": "execute_result"
    }
   ],
   "source": [
    "# concatenating and shuffling the list of applications\n",
    "all_applied_unis = pop_apps + atr_uni_picks\n",
    "random.shuffle(all_applied_unis)\n",
    "len(all_applied_unis)\n"
   ]
  },
  {
   "cell_type": "code",
   "execution_count": null,
   "metadata": {},
   "outputs": [
    {
     "data": {
      "text/html": [
       "<div>\n",
       "<style scoped>\n",
       "    .dataframe tbody tr th:only-of-type {\n",
       "        vertical-align: middle;\n",
       "    }\n",
       "\n",
       "    .dataframe tbody tr th {\n",
       "        vertical-align: top;\n",
       "    }\n",
       "\n",
       "    .dataframe thead th {\n",
       "        text-align: right;\n",
       "    }\n",
       "</style>\n",
       "<table border=\"1\" class=\"dataframe\">\n",
       "  <thead>\n",
       "    <tr style=\"text-align: right;\">\n",
       "      <th></th>\n",
       "      <th>university_id</th>\n",
       "    </tr>\n",
       "  </thead>\n",
       "  <tbody>\n",
       "    <tr>\n",
       "      <th>1</th>\n",
       "      <td>131496</td>\n",
       "    </tr>\n",
       "    <tr>\n",
       "      <th>2</th>\n",
       "      <td>164924</td>\n",
       "    </tr>\n",
       "    <tr>\n",
       "      <th>3</th>\n",
       "      <td>186131</td>\n",
       "    </tr>\n",
       "    <tr>\n",
       "      <th>4</th>\n",
       "      <td>161004</td>\n",
       "    </tr>\n",
       "    <tr>\n",
       "      <th>5</th>\n",
       "      <td>159568</td>\n",
       "    </tr>\n",
       "  </tbody>\n",
       "</table>\n",
       "</div>"
      ],
      "text/plain": [
       "   university_id\n",
       "1         131496\n",
       "2         164924\n",
       "3         186131\n",
       "4         161004\n",
       "5         159568"
      ]
     },
     "execution_count": 102,
     "metadata": {},
     "output_type": "execute_result"
    }
   ],
   "source": [
    "# converting into a dataframe\n",
    "applications = pd.DataFrame(all_applied_unis, columns=['university_id'])\n",
    "applications.index += 1\n",
    "applications.head()"
   ]
  },
  {
   "cell_type": "code",
   "execution_count": null,
   "metadata": {},
   "outputs": [
    {
     "data": {
      "text/html": [
       "<div>\n",
       "<style scoped>\n",
       "    .dataframe tbody tr th:only-of-type {\n",
       "        vertical-align: middle;\n",
       "    }\n",
       "\n",
       "    .dataframe tbody tr th {\n",
       "        vertical-align: top;\n",
       "    }\n",
       "\n",
       "    .dataframe thead th {\n",
       "        text-align: right;\n",
       "    }\n",
       "</style>\n",
       "<table border=\"1\" class=\"dataframe\">\n",
       "  <thead>\n",
       "    <tr style=\"text-align: right;\">\n",
       "      <th></th>\n",
       "      <th>university_id</th>\n",
       "      <th>admitted</th>\n",
       "    </tr>\n",
       "  </thead>\n",
       "  <tbody>\n",
       "    <tr>\n",
       "      <th>1</th>\n",
       "      <td>131496</td>\n",
       "      <td>0</td>\n",
       "    </tr>\n",
       "    <tr>\n",
       "      <th>2</th>\n",
       "      <td>164924</td>\n",
       "      <td>0</td>\n",
       "    </tr>\n",
       "    <tr>\n",
       "      <th>3</th>\n",
       "      <td>186131</td>\n",
       "      <td>0</td>\n",
       "    </tr>\n",
       "    <tr>\n",
       "      <th>4</th>\n",
       "      <td>161004</td>\n",
       "      <td>0</td>\n",
       "    </tr>\n",
       "    <tr>\n",
       "      <th>5</th>\n",
       "      <td>159568</td>\n",
       "      <td>1</td>\n",
       "    </tr>\n",
       "  </tbody>\n",
       "</table>\n",
       "</div>"
      ],
      "text/plain": [
       "   university_id  admitted\n",
       "1         131496         0\n",
       "2         164924         0\n",
       "3         186131         0\n",
       "4         161004         0\n",
       "5         159568         1"
      ]
     },
     "execution_count": 103,
     "metadata": {},
     "output_type": "execute_result"
    }
   ],
   "source": [
    "# randomizing admission status\n",
    "def admit(university_id):\n",
    "    percent = universities.loc[university_id]['percent_admitted'].item()\n",
    "    return random.randrange(0,100) <= percent\n",
    "\n",
    "admissions = []\n",
    "for i in range(len(all_applied_unis)):\n",
    "    admissions.append(int(admit(all_applied_unis[i])))\n",
    "applications.insert(1, 'admitted', admissions)\n",
    "applications.head()"
   ]
  },
  {
   "cell_type": "code",
   "execution_count": null,
   "metadata": {},
   "outputs": [
    {
     "data": {
      "text/html": [
       "<div>\n",
       "<style scoped>\n",
       "    .dataframe tbody tr th:only-of-type {\n",
       "        vertical-align: middle;\n",
       "    }\n",
       "\n",
       "    .dataframe tbody tr th {\n",
       "        vertical-align: top;\n",
       "    }\n",
       "\n",
       "    .dataframe thead th {\n",
       "        text-align: right;\n",
       "    }\n",
       "</style>\n",
       "<table border=\"1\" class=\"dataframe\">\n",
       "  <thead>\n",
       "    <tr style=\"text-align: right;\">\n",
       "      <th></th>\n",
       "      <th>university_id</th>\n",
       "      <th>admitted</th>\n",
       "      <th>ed</th>\n",
       "      <th>rd</th>\n",
       "    </tr>\n",
       "  </thead>\n",
       "  <tbody>\n",
       "    <tr>\n",
       "      <th>1</th>\n",
       "      <td>131496</td>\n",
       "      <td>0</td>\n",
       "      <td>0</td>\n",
       "      <td>1</td>\n",
       "    </tr>\n",
       "    <tr>\n",
       "      <th>2</th>\n",
       "      <td>164924</td>\n",
       "      <td>0</td>\n",
       "      <td>0</td>\n",
       "      <td>1</td>\n",
       "    </tr>\n",
       "    <tr>\n",
       "      <th>3</th>\n",
       "      <td>186131</td>\n",
       "      <td>0</td>\n",
       "      <td>1</td>\n",
       "      <td>0</td>\n",
       "    </tr>\n",
       "    <tr>\n",
       "      <th>4</th>\n",
       "      <td>161004</td>\n",
       "      <td>0</td>\n",
       "      <td>0</td>\n",
       "      <td>1</td>\n",
       "    </tr>\n",
       "    <tr>\n",
       "      <th>5</th>\n",
       "      <td>159568</td>\n",
       "      <td>1</td>\n",
       "      <td>1</td>\n",
       "      <td>0</td>\n",
       "    </tr>\n",
       "  </tbody>\n",
       "</table>\n",
       "</div>"
      ],
      "text/plain": [
       "   university_id  admitted  ed  rd\n",
       "1         131496         0   0   1\n",
       "2         164924         0   0   1\n",
       "3         186131         0   1   0\n",
       "4         161004         0   0   1\n",
       "5         159568         1   1   0"
      ]
     },
     "execution_count": 104,
     "metadata": {},
     "output_type": "execute_result"
    }
   ],
   "source": [
    "# randomizing early decision vs regular decision\n",
    "early = [1 for i in range(536)]\n",
    "regular = [0 for i in range(3901-536)]\n",
    "decisions = early + regular\n",
    "random.shuffle(decisions)\n",
    "applications.insert(2, 'ed', decisions)\n",
    "applications.insert(3, 'rd', [int(not elem) for elem in decisions])\n",
    "applications.head()"
   ]
  },
  {
   "cell_type": "code",
   "execution_count": null,
   "metadata": {},
   "outputs": [],
   "source": [
    "# generating 4-digit student IDs\n",
    "student_ids = random.sample(range(1000,10000), 536)"
   ]
  },
  {
   "cell_type": "code",
   "execution_count": null,
   "metadata": {},
   "outputs": [],
   "source": [
    "# randomly selecting how many regular decision apps each student makes\n",
    "# app nums are total apps made minus 1 since all students do one ED app\n",
    "app_nums = [0, 1, 2, 3, 4, 5, 6, \n",
    "            7, 8, 9, 10, 11, 12, 13, 14]\n",
    "app_distribution = [.1, .02, .03, .02, .06, .17, .16, \n",
    "                    .11, .09, .07, .04, .04, .03, .03, .03]\n",
    "\n",
    "student_rd_apps = []\n",
    "for id in student_ids:\n",
    "    apps = random.choices(population = app_nums, weights=app_distribution, k=1)\n",
    "    if apps[-1] > 0:\n",
    "        for i in range(apps[-1]):\n",
    "            student_rd_apps.append(id)\n"
   ]
  },
  {
   "cell_type": "code",
   "execution_count": null,
   "metadata": {},
   "outputs": [],
   "source": [
    "# organizing and combining the two kinds of applications\n",
    "ids_copy = student_ids.copy()\n",
    "random.shuffle(student_rd_apps)\n",
    "student_apps = []\n",
    "for i in range(3901):\n",
    "    if decisions[i] == 1:\n",
    "        student_apps.append(ids_copy.pop())\n",
    "    else:\n",
    "        student_apps.append(student_rd_apps.pop())"
   ]
  },
  {
   "cell_type": "code",
   "execution_count": null,
   "metadata": {},
   "outputs": [
    {
     "ename": "ValueError",
     "evalue": "cannot insert student_id, already exists",
     "output_type": "error",
     "traceback": [
      "\u001b[0;31m---------------------------------------------------------------------------\u001b[0m",
      "\u001b[0;31mValueError\u001b[0m                                Traceback (most recent call last)",
      "\u001b[0;32m/var/folders/j6/h016nc3j00j7s2fdbpcwg_200000gn/T/ipykernel_3714/3881402579.py\u001b[0m in \u001b[0;36m?\u001b[0;34m()\u001b[0m\n\u001b[0;32m----> 1\u001b[0;31m \u001b[0mapplications\u001b[0m\u001b[0;34m.\u001b[0m\u001b[0minsert\u001b[0m\u001b[0;34m(\u001b[0m\u001b[0;36m4\u001b[0m\u001b[0;34m,\u001b[0m \u001b[0;34m'student_id'\u001b[0m\u001b[0;34m,\u001b[0m \u001b[0mstudent_apps\u001b[0m\u001b[0;34m)\u001b[0m\u001b[0;34m\u001b[0m\u001b[0;34m\u001b[0m\u001b[0m\n\u001b[0m\u001b[1;32m      2\u001b[0m \u001b[0mapplications\u001b[0m\u001b[0;34m.\u001b[0m\u001b[0mdrop\u001b[0m\u001b[0;34m(\u001b[0m\u001b[0;34m'student_ids'\u001b[0m\u001b[0;34m)\u001b[0m\u001b[0;34m\u001b[0m\u001b[0;34m\u001b[0m\u001b[0m\n",
      "\u001b[0;32m~/anaconda3/envs/islp/lib/python3.12/site-packages/pandas/core/frame.py\u001b[0m in \u001b[0;36m?\u001b[0;34m(self, loc, column, value, allow_duplicates)\u001b[0m\n\u001b[1;32m   5154\u001b[0m                 \u001b[0;34m\"'self.flags.allows_duplicate_labels' is False.\"\u001b[0m\u001b[0;34m\u001b[0m\u001b[0;34m\u001b[0m\u001b[0m\n\u001b[1;32m   5155\u001b[0m             \u001b[0;34m)\u001b[0m\u001b[0;34m\u001b[0m\u001b[0;34m\u001b[0m\u001b[0m\n\u001b[1;32m   5156\u001b[0m         \u001b[0;32mif\u001b[0m \u001b[0;32mnot\u001b[0m \u001b[0mallow_duplicates\u001b[0m \u001b[0;32mand\u001b[0m \u001b[0mcolumn\u001b[0m \u001b[0;32min\u001b[0m \u001b[0mself\u001b[0m\u001b[0;34m.\u001b[0m\u001b[0mcolumns\u001b[0m\u001b[0;34m:\u001b[0m\u001b[0;34m\u001b[0m\u001b[0;34m\u001b[0m\u001b[0m\n\u001b[1;32m   5157\u001b[0m             \u001b[0;31m# Should this be a different kind of error??\u001b[0m\u001b[0;34m\u001b[0m\u001b[0;34m\u001b[0m\u001b[0m\n\u001b[0;32m-> 5158\u001b[0;31m             \u001b[0;32mraise\u001b[0m \u001b[0mValueError\u001b[0m\u001b[0;34m(\u001b[0m\u001b[0;34mf\"\u001b[0m\u001b[0;34mcannot insert \u001b[0m\u001b[0;34m{\u001b[0m\u001b[0mcolumn\u001b[0m\u001b[0;34m}\u001b[0m\u001b[0;34m, already exists\u001b[0m\u001b[0;34m\"\u001b[0m\u001b[0;34m)\u001b[0m\u001b[0;34m\u001b[0m\u001b[0;34m\u001b[0m\u001b[0m\n\u001b[0m\u001b[1;32m   5159\u001b[0m         \u001b[0;32mif\u001b[0m \u001b[0;32mnot\u001b[0m \u001b[0mis_integer\u001b[0m\u001b[0;34m(\u001b[0m\u001b[0mloc\u001b[0m\u001b[0;34m)\u001b[0m\u001b[0;34m:\u001b[0m\u001b[0;34m\u001b[0m\u001b[0;34m\u001b[0m\u001b[0m\n\u001b[1;32m   5160\u001b[0m             \u001b[0;32mraise\u001b[0m \u001b[0mTypeError\u001b[0m\u001b[0;34m(\u001b[0m\u001b[0;34m\"loc must be int\"\u001b[0m\u001b[0;34m)\u001b[0m\u001b[0;34m\u001b[0m\u001b[0;34m\u001b[0m\u001b[0m\n\u001b[1;32m   5161\u001b[0m         \u001b[0;31m# convert non stdlib ints to satisfy typing checks\u001b[0m\u001b[0;34m\u001b[0m\u001b[0;34m\u001b[0m\u001b[0m\n",
      "\u001b[0;31mValueError\u001b[0m: cannot insert student_id, already exists"
     ]
    }
   ],
   "source": [
    "applications.insert(4, 'student_id', student_apps)"
   ]
  },
  {
   "cell_type": "code",
   "execution_count": 152,
   "metadata": {},
   "outputs": [
    {
     "data": {
      "text/html": [
       "<div>\n",
       "<style scoped>\n",
       "    .dataframe tbody tr th:only-of-type {\n",
       "        vertical-align: middle;\n",
       "    }\n",
       "\n",
       "    .dataframe tbody tr th {\n",
       "        vertical-align: top;\n",
       "    }\n",
       "\n",
       "    .dataframe thead th {\n",
       "        text-align: right;\n",
       "    }\n",
       "</style>\n",
       "<table border=\"1\" class=\"dataframe\">\n",
       "  <thead>\n",
       "    <tr style=\"text-align: right;\">\n",
       "      <th></th>\n",
       "      <th>university_id</th>\n",
       "      <th>admitted</th>\n",
       "      <th>ed</th>\n",
       "      <th>rd</th>\n",
       "      <th>student_id</th>\n",
       "    </tr>\n",
       "  </thead>\n",
       "  <tbody>\n",
       "    <tr>\n",
       "      <th>1</th>\n",
       "      <td>131496</td>\n",
       "      <td>0</td>\n",
       "      <td>0</td>\n",
       "      <td>1</td>\n",
       "      <td>7075</td>\n",
       "    </tr>\n",
       "    <tr>\n",
       "      <th>2</th>\n",
       "      <td>164924</td>\n",
       "      <td>0</td>\n",
       "      <td>0</td>\n",
       "      <td>1</td>\n",
       "      <td>6094</td>\n",
       "    </tr>\n",
       "    <tr>\n",
       "      <th>3</th>\n",
       "      <td>186131</td>\n",
       "      <td>0</td>\n",
       "      <td>1</td>\n",
       "      <td>0</td>\n",
       "      <td>3694</td>\n",
       "    </tr>\n",
       "    <tr>\n",
       "      <th>4</th>\n",
       "      <td>161004</td>\n",
       "      <td>0</td>\n",
       "      <td>0</td>\n",
       "      <td>1</td>\n",
       "      <td>7765</td>\n",
       "    </tr>\n",
       "    <tr>\n",
       "      <th>5</th>\n",
       "      <td>159568</td>\n",
       "      <td>1</td>\n",
       "      <td>1</td>\n",
       "      <td>0</td>\n",
       "      <td>2185</td>\n",
       "    </tr>\n",
       "  </tbody>\n",
       "</table>\n",
       "</div>"
      ],
      "text/plain": [
       "   university_id  admitted  ed  rd  student_id\n",
       "1         131496         0   0   1        7075\n",
       "2         164924         0   0   1        6094\n",
       "3         186131         0   1   0        3694\n",
       "4         161004         0   0   1        7765\n",
       "5         159568         1   1   0        2185"
      ]
     },
     "execution_count": 152,
     "metadata": {},
     "output_type": "execute_result"
    }
   ],
   "source": [
    "applications = applications.drop(columns=['student_ids'])\n",
    "applications.head()"
   ]
  },
  {
   "cell_type": "markdown",
   "metadata": {},
   "source": [
    "below cells were purely for exporting the data so I could load it into the google sheet"
   ]
  },
  {
   "cell_type": "code",
   "execution_count": 144,
   "metadata": {},
   "outputs": [],
   "source": [
    "applications.to_csv('applications.csv', index=True)"
   ]
  },
  {
   "cell_type": "code",
   "execution_count": 145,
   "metadata": {},
   "outputs": [],
   "source": [
    "import csv\n",
    "with open('students.csv', 'w', newline='') as myfile:\n",
    "     wr = csv.writer(myfile, quoting=csv.QUOTE_ALL)\n",
    "     wr.writerow(student_ids)"
   ]
  },
  {
   "cell_type": "code",
   "execution_count": 160,
   "metadata": {},
   "outputs": [
    {
     "data": {
      "text/html": [
       "<div>\n",
       "<style scoped>\n",
       "    .dataframe tbody tr th:only-of-type {\n",
       "        vertical-align: middle;\n",
       "    }\n",
       "\n",
       "    .dataframe tbody tr th {\n",
       "        vertical-align: top;\n",
       "    }\n",
       "\n",
       "    .dataframe thead th {\n",
       "        text-align: right;\n",
       "    }\n",
       "</style>\n",
       "<table border=\"1\" class=\"dataframe\">\n",
       "  <thead>\n",
       "    <tr style=\"text-align: right;\">\n",
       "      <th></th>\n",
       "      <th>university_id</th>\n",
       "      <th>admitted</th>\n",
       "      <th>ed</th>\n",
       "      <th>rd</th>\n",
       "      <th>student_id</th>\n",
       "    </tr>\n",
       "  </thead>\n",
       "  <tbody>\n",
       "    <tr>\n",
       "      <th>2226</th>\n",
       "      <td>130794</td>\n",
       "      <td>0</td>\n",
       "      <td>0</td>\n",
       "      <td>1</td>\n",
       "      <td>2357</td>\n",
       "    </tr>\n",
       "    <tr>\n",
       "      <th>3548</th>\n",
       "      <td>130794</td>\n",
       "      <td>0</td>\n",
       "      <td>0</td>\n",
       "      <td>1</td>\n",
       "      <td>4103</td>\n",
       "    </tr>\n",
       "    <tr>\n",
       "      <th>2243</th>\n",
       "      <td>130794</td>\n",
       "      <td>0</td>\n",
       "      <td>1</td>\n",
       "      <td>0</td>\n",
       "      <td>6288</td>\n",
       "    </tr>\n",
       "    <tr>\n",
       "      <th>3032</th>\n",
       "      <td>130794</td>\n",
       "      <td>0</td>\n",
       "      <td>0</td>\n",
       "      <td>1</td>\n",
       "      <td>6288</td>\n",
       "    </tr>\n",
       "    <tr>\n",
       "      <th>1365</th>\n",
       "      <td>130794</td>\n",
       "      <td>0</td>\n",
       "      <td>0</td>\n",
       "      <td>1</td>\n",
       "      <td>7091</td>\n",
       "    </tr>\n",
       "    <tr>\n",
       "      <th>...</th>\n",
       "      <td>...</td>\n",
       "      <td>...</td>\n",
       "      <td>...</td>\n",
       "      <td>...</td>\n",
       "      <td>...</td>\n",
       "    </tr>\n",
       "    <tr>\n",
       "      <th>3234</th>\n",
       "      <td>234076</td>\n",
       "      <td>0</td>\n",
       "      <td>0</td>\n",
       "      <td>1</td>\n",
       "      <td>5962</td>\n",
       "    </tr>\n",
       "    <tr>\n",
       "      <th>3731</th>\n",
       "      <td>234076</td>\n",
       "      <td>1</td>\n",
       "      <td>0</td>\n",
       "      <td>1</td>\n",
       "      <td>7271</td>\n",
       "    </tr>\n",
       "    <tr>\n",
       "      <th>3371</th>\n",
       "      <td>234076</td>\n",
       "      <td>0</td>\n",
       "      <td>0</td>\n",
       "      <td>1</td>\n",
       "      <td>7788</td>\n",
       "    </tr>\n",
       "    <tr>\n",
       "      <th>1654</th>\n",
       "      <td>234076</td>\n",
       "      <td>0</td>\n",
       "      <td>0</td>\n",
       "      <td>1</td>\n",
       "      <td>9666</td>\n",
       "    </tr>\n",
       "    <tr>\n",
       "      <th>3542</th>\n",
       "      <td>234076</td>\n",
       "      <td>1</td>\n",
       "      <td>0</td>\n",
       "      <td>1</td>\n",
       "      <td>9666</td>\n",
       "    </tr>\n",
       "  </tbody>\n",
       "</table>\n",
       "<p>484 rows × 5 columns</p>\n",
       "</div>"
      ],
      "text/plain": [
       "      university_id  admitted  ed  rd  student_id\n",
       "2226         130794         0   0   1        2357\n",
       "3548         130794         0   0   1        4103\n",
       "2243         130794         0   1   0        6288\n",
       "3032         130794         0   0   1        6288\n",
       "1365         130794         0   0   1        7091\n",
       "...             ...       ...  ..  ..         ...\n",
       "3234         234076         0   0   1        5962\n",
       "3731         234076         1   0   1        7271\n",
       "3371         234076         0   0   1        7788\n",
       "1654         234076         0   0   1        9666\n",
       "3542         234076         1   0   1        9666\n",
       "\n",
       "[484 rows x 5 columns]"
      ]
     },
     "execution_count": 160,
     "metadata": {},
     "output_type": "execute_result"
    }
   ],
   "source": [
    "dupes = applications[applications.duplicated(subset=['university_id', 'student_id'])].sort_values(['university_id','student_id'])\n",
    "dupes"
   ]
  },
  {
   "cell_type": "code",
   "execution_count": null,
   "metadata": {},
   "outputs": [
    {
     "data": {
      "text/plain": [
       "admitted\n",
       "0    2527\n",
       "1     890\n",
       "Name: count, dtype: int64"
      ]
     },
     "execution_count": 164,
     "metadata": {},
     "output_type": "execute_result"
    }
   ],
   "source": [
    "applications = applications.sort_values('ed', ascending=False)\n",
    "applications = applications.drop_duplicates(subset=['university_id', 'student_id'], keep='first')\n"
   ]
  },
  {
   "cell_type": "code",
   "execution_count": 286,
   "metadata": {},
   "outputs": [
    {
     "data": {
      "text/html": [
       "<div>\n",
       "<style scoped>\n",
       "    .dataframe tbody tr th:only-of-type {\n",
       "        vertical-align: middle;\n",
       "    }\n",
       "\n",
       "    .dataframe tbody tr th {\n",
       "        vertical-align: top;\n",
       "    }\n",
       "\n",
       "    .dataframe thead th {\n",
       "        text-align: right;\n",
       "    }\n",
       "</style>\n",
       "<table border=\"1\" class=\"dataframe\">\n",
       "  <thead>\n",
       "    <tr style=\"text-align: right;\">\n",
       "      <th></th>\n",
       "      <th>index</th>\n",
       "      <th>university_id</th>\n",
       "      <th>admitted</th>\n",
       "      <th>ed</th>\n",
       "      <th>rd</th>\n",
       "      <th>student_id</th>\n",
       "    </tr>\n",
       "  </thead>\n",
       "  <tbody>\n",
       "    <tr>\n",
       "      <th>4</th>\n",
       "      <td>5</td>\n",
       "      <td>159568</td>\n",
       "      <td>1</td>\n",
       "      <td>1</td>\n",
       "      <td>0</td>\n",
       "      <td>2185</td>\n",
       "    </tr>\n",
       "    <tr>\n",
       "      <th>9</th>\n",
       "      <td>10</td>\n",
       "      <td>240471</td>\n",
       "      <td>1</td>\n",
       "      <td>1</td>\n",
       "      <td>0</td>\n",
       "      <td>5715</td>\n",
       "    </tr>\n",
       "    <tr>\n",
       "      <th>36</th>\n",
       "      <td>37</td>\n",
       "      <td>369668</td>\n",
       "      <td>1</td>\n",
       "      <td>1</td>\n",
       "      <td>0</td>\n",
       "      <td>3314</td>\n",
       "    </tr>\n",
       "    <tr>\n",
       "      <th>38</th>\n",
       "      <td>39</td>\n",
       "      <td>191515</td>\n",
       "      <td>1</td>\n",
       "      <td>1</td>\n",
       "      <td>0</td>\n",
       "      <td>1284</td>\n",
       "    </tr>\n",
       "    <tr>\n",
       "      <th>42</th>\n",
       "      <td>43</td>\n",
       "      <td>383525</td>\n",
       "      <td>1</td>\n",
       "      <td>1</td>\n",
       "      <td>0</td>\n",
       "      <td>1424</td>\n",
       "    </tr>\n",
       "    <tr>\n",
       "      <th>...</th>\n",
       "      <td>...</td>\n",
       "      <td>...</td>\n",
       "      <td>...</td>\n",
       "      <td>...</td>\n",
       "      <td>...</td>\n",
       "      <td>...</td>\n",
       "    </tr>\n",
       "    <tr>\n",
       "      <th>3893</th>\n",
       "      <td>3894</td>\n",
       "      <td>166027</td>\n",
       "      <td>0</td>\n",
       "      <td>0</td>\n",
       "      <td>1</td>\n",
       "      <td>4474</td>\n",
       "    </tr>\n",
       "    <tr>\n",
       "      <th>3897</th>\n",
       "      <td>3898</td>\n",
       "      <td>182670</td>\n",
       "      <td>0</td>\n",
       "      <td>0</td>\n",
       "      <td>1</td>\n",
       "      <td>7887</td>\n",
       "    </tr>\n",
       "    <tr>\n",
       "      <th>3898</th>\n",
       "      <td>3899</td>\n",
       "      <td>166027</td>\n",
       "      <td>0</td>\n",
       "      <td>0</td>\n",
       "      <td>1</td>\n",
       "      <td>6435</td>\n",
       "    </tr>\n",
       "    <tr>\n",
       "      <th>3899</th>\n",
       "      <td>3900</td>\n",
       "      <td>164924</td>\n",
       "      <td>0</td>\n",
       "      <td>0</td>\n",
       "      <td>1</td>\n",
       "      <td>1464</td>\n",
       "    </tr>\n",
       "    <tr>\n",
       "      <th>3900</th>\n",
       "      <td>3901</td>\n",
       "      <td>234076</td>\n",
       "      <td>0</td>\n",
       "      <td>0</td>\n",
       "      <td>1</td>\n",
       "      <td>4896</td>\n",
       "    </tr>\n",
       "  </tbody>\n",
       "</table>\n",
       "<p>3417 rows × 6 columns</p>\n",
       "</div>"
      ],
      "text/plain": [
       "      index  university_id  admitted  ed  rd  student_id\n",
       "4         5         159568         1   1   0        2185\n",
       "9        10         240471         1   1   0        5715\n",
       "36       37         369668         1   1   0        3314\n",
       "38       39         191515         1   1   0        1284\n",
       "42       43         383525         1   1   0        1424\n",
       "...     ...            ...       ...  ..  ..         ...\n",
       "3893   3894         166027         0   0   1        4474\n",
       "3897   3898         182670         0   0   1        7887\n",
       "3898   3899         166027         0   0   1        6435\n",
       "3899   3900         164924         0   0   1        1464\n",
       "3900   3901         234076         0   0   1        4896\n",
       "\n",
       "[3417 rows x 6 columns]"
      ]
     },
     "execution_count": 286,
     "metadata": {},
     "output_type": "execute_result"
    }
   ],
   "source": [
    "applications=pd.read_csv('applications.csv')\n",
    "applications = applications.sort_values(['admitted', 'ed'], ascending=False)\n",
    "applications = applications.drop_duplicates(subset=['university_id', 'student_id'], keep='first')\n",
    "applications"
   ]
  },
  {
   "cell_type": "code",
   "execution_count": 292,
   "metadata": {},
   "outputs": [],
   "source": [
    "admits = applications.where(applications['admitted']==1)['student_id'].dropna().to_list()\n",
    "need_accepts = []\n",
    "for id in student_ids:\n",
    "    if id not in admits:\n",
    "        need_accepts.append(id)"
   ]
  },
  {
   "cell_type": "code",
   "execution_count": null,
   "metadata": {},
   "outputs": [],
   "source": [
    "for i in range(len(need_accepts)):\n",
    "    # run once with idxmax, once with sample, and that should cover everything\n",
    "    # ind = applications.loc[applications['student_id'] == need_accepts[i]].idxmax()\n",
    "    ind = applications.loc[applications['student_id'] == need_accepts[i]].sample()\n",
    "    applications.loc[applications['index']==ind['index'].item(), 'admitted'] = 1"
   ]
  },
  {
   "cell_type": "code",
   "execution_count": 293,
   "metadata": {},
   "outputs": [
    {
     "data": {
      "text/plain": [
       "0"
      ]
     },
     "execution_count": 293,
     "metadata": {},
     "output_type": "execute_result"
    }
   ],
   "source": [
    "len(need_accepts)"
   ]
  },
  {
   "cell_type": "code",
   "execution_count": null,
   "metadata": {},
   "outputs": [
    {
     "data": {
      "text/plain": [
       "index            1099\n",
       "university_id    1099\n",
       "admitted         1099\n",
       "ed               1099\n",
       "rd               1099\n",
       "student_id       1099\n",
       "dtype: int64"
      ]
     },
     "execution_count": 296,
     "metadata": {},
     "output_type": "execute_result"
    }
   ],
   "source": [
    "admits = applications.where(applications['admitted']==1).count()\n",
    "admits\n"
   ]
  },
  {
   "cell_type": "code",
   "execution_count": 302,
   "metadata": {},
   "outputs": [],
   "source": [
    "applications = applications.sample(frac=1)\n",
    "applications.reset_index(inplace=True, drop=True)\n",
    "applications.index += 1\n",
    "applications = applications.drop(columns='index')"
   ]
  },
  {
   "cell_type": "code",
   "execution_count": 303,
   "metadata": {},
   "outputs": [],
   "source": [
    "applications.to_csv('applications.csv', index=True)"
   ]
  }
 ],
 "metadata": {
  "kernelspec": {
   "display_name": "islp",
   "language": "python",
   "name": "python3"
  },
  "language_info": {
   "codemirror_mode": {
    "name": "ipython",
    "version": 3
   },
   "file_extension": ".py",
   "mimetype": "text/x-python",
   "name": "python",
   "nbconvert_exporter": "python",
   "pygments_lexer": "ipython3",
   "version": "3.12.5"
  }
 },
 "nbformat": 4,
 "nbformat_minor": 2
}
