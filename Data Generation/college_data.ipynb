{
 "cells": [
  {
   "cell_type": "code",
   "execution_count": 1,
   "metadata": {},
   "outputs": [],
   "source": [
    "import pandas as pd\n",
    "import numpy as np"
   ]
  },
  {
   "cell_type": "code",
   "execution_count": 4,
   "metadata": {},
   "outputs": [],
   "source": [
    "applications = pd.read_csv('clean_applications.csv')\n",
    "universities = pd.read_csv('/Users/noahraegrant/Documents/GitHub/DS5110-Final-Project/cleaned data/universities.csv')"
   ]
  },
  {
   "cell_type": "code",
   "execution_count": 71,
   "metadata": {},
   "outputs": [
    {
     "data": {
      "text/plain": [
       "['Unnamed: 0', 'university_id', 'admitted', 'ed', 'rd', 'student_id']"
      ]
     },
     "execution_count": 71,
     "metadata": {},
     "output_type": "execute_result"
    }
   ],
   "source": [
    "matriculating = applications.where(applications['admitted']==1).dropna()\n",
    "matriculating.columns.to_list()"
   ]
  },
  {
   "cell_type": "code",
   "execution_count": 72,
   "metadata": {},
   "outputs": [],
   "source": [
    "matriculating=matriculating[['student_id', 'university_id']]\n",
    "matriculating = matriculating.drop_duplicates('student_id', keep='last')\n",
    "matriculating['university_id'] = matriculating['university_id'].astype(int)\n",
    "matriculating['student_id'] = matriculating['student_id'].astype(int)"
   ]
  },
  {
   "cell_type": "code",
   "execution_count": 73,
   "metadata": {},
   "outputs": [],
   "source": [
    "def inst_name(uni_id):\n",
    "    return universities[universities['university_id']==uni_id]['institution_name'].item()"
   ]
  },
  {
   "cell_type": "code",
   "execution_count": 74,
   "metadata": {},
   "outputs": [],
   "source": [
    "matriculating['institution_name'] = matriculating.apply(lambda x:inst_name(x.university_id.item()), axis=1)"
   ]
  },
  {
   "cell_type": "code",
   "execution_count": 76,
   "metadata": {},
   "outputs": [],
   "source": [
    "matriculating.to_csv('matriculating.csv', index=False)"
   ]
  }
 ],
 "metadata": {
  "kernelspec": {
   "display_name": "islp",
   "language": "python",
   "name": "python3"
  },
  "language_info": {
   "codemirror_mode": {
    "name": "ipython",
    "version": 3
   },
   "file_extension": ".py",
   "mimetype": "text/x-python",
   "name": "python",
   "nbconvert_exporter": "python",
   "pygments_lexer": "ipython3",
   "version": "3.12.5"
  }
 },
 "nbformat": 4,
 "nbformat_minor": 2
}
