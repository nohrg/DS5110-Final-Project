{
 "cells": [
  {
   "cell_type": "code",
   "execution_count": 87,
   "metadata": {},
   "outputs": [],
   "source": [
    "import pandas as pd\n",
    "import numpy as np\n",
    "import random"
   ]
  },
  {
   "cell_type": "markdown",
   "metadata": {},
   "source": [
    "Assumption: 536 total student accounts\n",
    "\n",
    "Using the distribution of the number of apps, we get 3901 total apps: 3043 to the 20 most popular colleges, 858 to all the rest.\n",
    "\n",
    "Of those 3901 applications, there will be 536 early decision/admission apps, and the remainder are regular decision. The choice to bucket early admission and decision together is for simplicity, so that we don't have to look up which university does what type of early application.\n"
   ]
  },
  {
   "cell_type": "code",
   "execution_count": 88,
   "metadata": {},
   "outputs": [
    {
     "data": {
      "text/html": [
       "<div>\n",
       "<style scoped>\n",
       "    .dataframe tbody tr th:only-of-type {\n",
       "        vertical-align: middle;\n",
       "    }\n",
       "\n",
       "    .dataframe tbody tr th {\n",
       "        vertical-align: top;\n",
       "    }\n",
       "\n",
       "    .dataframe thead th {\n",
       "        text-align: right;\n",
       "    }\n",
       "</style>\n",
       "<table border=\"1\" class=\"dataframe\">\n",
       "  <thead>\n",
       "    <tr style=\"text-align: right;\">\n",
       "      <th></th>\n",
       "      <th>institution_name</th>\n",
       "      <th>state</th>\n",
       "      <th>region</th>\n",
       "      <th>year</th>\n",
       "      <th>student_count</th>\n",
       "      <th>percent_admitted</th>\n",
       "      <th>percent_admitted_men</th>\n",
       "      <th>percent_admitted_women</th>\n",
       "      <th>yield_total</th>\n",
       "      <th>yield_men</th>\n",
       "      <th>yield_women</th>\n",
       "    </tr>\n",
       "    <tr>\n",
       "      <th>university_id</th>\n",
       "      <th></th>\n",
       "      <th></th>\n",
       "      <th></th>\n",
       "      <th></th>\n",
       "      <th></th>\n",
       "      <th></th>\n",
       "      <th></th>\n",
       "      <th></th>\n",
       "      <th></th>\n",
       "      <th></th>\n",
       "      <th></th>\n",
       "    </tr>\n",
       "  </thead>\n",
       "  <tbody>\n",
       "    <tr>\n",
       "      <th>110404</th>\n",
       "      <td>California Institute of Technology</td>\n",
       "      <td>California</td>\n",
       "      <td>Far West (AK, CA, HI, NV, OR, WA)</td>\n",
       "      <td>2022</td>\n",
       "      <td>2518</td>\n",
       "      <td>3</td>\n",
       "      <td>2.0</td>\n",
       "      <td>4.0</td>\n",
       "      <td>50</td>\n",
       "      <td>55.0</td>\n",
       "      <td>46.0</td>\n",
       "    </tr>\n",
       "    <tr>\n",
       "      <th>166027</th>\n",
       "      <td>Harvard University</td>\n",
       "      <td>Massachusetts</td>\n",
       "      <td>New England (CT, ME, MA, NH, RI, VT)</td>\n",
       "      <td>2022</td>\n",
       "      <td>37613</td>\n",
       "      <td>3</td>\n",
       "      <td>3.0</td>\n",
       "      <td>3.0</td>\n",
       "      <td>83</td>\n",
       "      <td>81.0</td>\n",
       "      <td>84.0</td>\n",
       "    </tr>\n",
       "    <tr>\n",
       "      <th>166683</th>\n",
       "      <td>Massachusetts Institute of Technology</td>\n",
       "      <td>Massachusetts</td>\n",
       "      <td>New England (CT, ME, MA, NH, RI, VT)</td>\n",
       "      <td>2022</td>\n",
       "      <td>12829</td>\n",
       "      <td>4</td>\n",
       "      <td>3.0</td>\n",
       "      <td>6.0</td>\n",
       "      <td>85</td>\n",
       "      <td>88.0</td>\n",
       "      <td>82.0</td>\n",
       "    </tr>\n",
       "    <tr>\n",
       "      <th>190150</th>\n",
       "      <td>Columbia University in the City of New York</td>\n",
       "      <td>New York</td>\n",
       "      <td>Mid East (DE, DC, MD, NJ, NY, PA)</td>\n",
       "      <td>2022</td>\n",
       "      <td>37954</td>\n",
       "      <td>4</td>\n",
       "      <td>5.0</td>\n",
       "      <td>3.0</td>\n",
       "      <td>64</td>\n",
       "      <td>64.0</td>\n",
       "      <td>63.0</td>\n",
       "    </tr>\n",
       "    <tr>\n",
       "      <th>243744</th>\n",
       "      <td>Stanford University</td>\n",
       "      <td>California</td>\n",
       "      <td>Far West (AK, CA, HI, NV, OR, WA)</td>\n",
       "      <td>2022</td>\n",
       "      <td>20955</td>\n",
       "      <td>4</td>\n",
       "      <td>3.0</td>\n",
       "      <td>4.0</td>\n",
       "      <td>84</td>\n",
       "      <td>84.0</td>\n",
       "      <td>84.0</td>\n",
       "    </tr>\n",
       "  </tbody>\n",
       "</table>\n",
       "</div>"
      ],
      "text/plain": [
       "                                          institution_name          state  \\\n",
       "university_id                                                               \n",
       "110404                  California Institute of Technology     California   \n",
       "166027                                  Harvard University  Massachusetts   \n",
       "166683               Massachusetts Institute of Technology  Massachusetts   \n",
       "190150         Columbia University in the City of New York       New York   \n",
       "243744                                 Stanford University     California   \n",
       "\n",
       "                                             region  year  student_count  \\\n",
       "university_id                                                              \n",
       "110404            Far West (AK, CA, HI, NV, OR, WA)  2022           2518   \n",
       "166027         New England (CT, ME, MA, NH, RI, VT)  2022          37613   \n",
       "166683         New England (CT, ME, MA, NH, RI, VT)  2022          12829   \n",
       "190150            Mid East (DE, DC, MD, NJ, NY, PA)  2022          37954   \n",
       "243744            Far West (AK, CA, HI, NV, OR, WA)  2022          20955   \n",
       "\n",
       "               percent_admitted  percent_admitted_men  percent_admitted_women  \\\n",
       "university_id                                                                   \n",
       "110404                        3                   2.0                     4.0   \n",
       "166027                        3                   3.0                     3.0   \n",
       "166683                        4                   3.0                     6.0   \n",
       "190150                        4                   5.0                     3.0   \n",
       "243744                        4                   3.0                     4.0   \n",
       "\n",
       "               yield_total  yield_men  yield_women  \n",
       "university_id                                       \n",
       "110404                  50       55.0         46.0  \n",
       "166027                  83       81.0         84.0  \n",
       "166683                  85       88.0         82.0  \n",
       "190150                  64       64.0         63.0  \n",
       "243744                  84       84.0         84.0  "
      ]
     },
     "execution_count": 88,
     "metadata": {},
     "output_type": "execute_result"
    }
   ],
   "source": [
    "universities = pd.read_csv('UNIVERSITIES.csv', header=[0], index_col=[0])\n",
    "universities.head()"
   ]
  },
  {
   "cell_type": "code",
   "execution_count": null,
   "metadata": {},
   "outputs": [],
   "source": [
    "popular_unis = [\n",
    "    \"Harvard University\",\n",
    "    \"Boston College\",\n",
    "    \"Brown University\",\n",
    "    \"Dartmouth College\",\n",
    "    \"Middlebury College\" ,\n",
    "    \"Georgetown University\",\n",
    "    \"Bowdoin College\",\n",
    "    \"Williams College\",\n",
    "    \"Tufts University\",\n",
    "    \"Duke University\",\n",
    "    \"Colby College\",\n",
    "    \"Princeton University\",\n",
    "    \"Cornell University\",\n",
    "    \"Yale University\",\n",
    "    \"University of Virginia-Main Campus\",\n",
    "    \"Hamilton College\",\n",
    "    \"Bates College\",\n",
    "    \"Boston University\",\n",
    "    \"University of Chicago\",\n",
    "    \"Columbia University in the City of New York\"]\n",
    "\n",
    "distribution = [.116, .091, .077, .077, .064, .051, .051, .051, .051 ,.051,\n",
    "                .038, .038, .038, .038, .038, .026, .026, .026, .026, .026]\n",
    "# 78% of schools applied to are in this group\n",
    "# distribution is how much of that 78%"
   ]
  },
  {
   "cell_type": "code",
   "execution_count": 92,
   "metadata": {},
   "outputs": [
    {
     "data": {
      "text/plain": [
       "3043"
      ]
     },
     "execution_count": 92,
     "metadata": {},
     "output_type": "execute_result"
    }
   ],
   "source": [
    "pop_picks = random.choices(population=popular_unis, weights = distribution, k=3043)\n",
    "len(pop_picks)"
   ]
  },
  {
   "cell_type": "code",
   "execution_count": 93,
   "metadata": {},
   "outputs": [
    {
     "name": "stdout",
     "output_type": "stream",
     "text": [
      "Harvard University: 316\n",
      "Boston College: 282\n",
      "Brown University: 231\n",
      "Dartmouth College: 251\n",
      "Middlebury College: 179\n",
      "Georgetown University: 173\n",
      "Bowdoin College: 158\n",
      "Williams College: 169\n",
      "Tufts University: 154\n",
      "Duke University: 179\n",
      "Colby College: 103\n",
      "Princeton University: 97\n",
      "Cornell University: 112\n",
      "Yale University: 106\n",
      "University of Virginia-Main Campus: 134\n",
      "Hamilton College: 95\n",
      "Bates College: 69\n",
      "Boston University: 87\n",
      "University of Chicago: 75\n",
      "Columbia University in the City of New York: 73\n"
     ]
    }
   ],
   "source": [
    "for uni in popular_unis:\n",
    "    print(f\"{uni}: {pop_picks.count(uni)}\")"
   ]
  },
  {
   "cell_type": "code",
   "execution_count": null,
   "metadata": {},
   "outputs": [],
   "source": [
    "pop_apps = []\n",
    "# converting names to IDs\n",
    "# a few in the \"all the rest\" category have same names so this cuts down\n",
    "# on the confusion\n",
    "for i in range(len(pop_picks)):\n",
    "    pop_apps.append(universities[universities['institution_name']==pop_picks[i]].index.item())"
   ]
  },
  {
   "cell_type": "code",
   "execution_count": 95,
   "metadata": {},
   "outputs": [],
   "source": [
    "regions = [\n",
    "\"New England (CT, ME, MA, NH, RI, VT)\",\n",
    "\"Mid East (DE, DC, MD, NJ, NY, PA)\",\n",
    "\"Southeast (AL, AR, FL, GA, KY, LA, MS, NC, SC, TN, VA, WV)\",\n",
    "\"Great Lakes (IL, IN, MI, OH, WI)\",\n",
    "\"Far West (AK, CA, HI, NV, OR, WA)\",\n",
    "\"Plains (IA, KS, MN, MO, NE, ND, SD)\",\n",
    "\"Rocky Mountains (CO, ID, MT, UT, WY)\",\n",
    "\"Southwest (AZ, NM, OK, TX)\",\n",
    "\n",
    "]\n",
    "region_distribution = [.39, .22, .13, .09, .08, .03, .03, .033]"
   ]
  },
  {
   "cell_type": "code",
   "execution_count": 96,
   "metadata": {},
   "outputs": [],
   "source": [
    "all_the_rest_regions = random.choices(population=regions, weights = region_distribution, k=858)"
   ]
  },
  {
   "cell_type": "code",
   "execution_count": 97,
   "metadata": {},
   "outputs": [
    {
     "name": "stdout",
     "output_type": "stream",
     "text": [
      "New England (CT, ME, MA, NH, RI, VT): 341\n",
      "Mid East (DE, DC, MD, NJ, NY, PA): 175\n",
      "Southeast (AL, AR, FL, GA, KY, LA, MS, NC, SC, TN, VA, WV): 111\n",
      "Great Lakes (IL, IN, MI, OH, WI): 77\n",
      "Far West (AK, CA, HI, NV, OR, WA): 73\n",
      "Plains (IA, KS, MN, MO, NE, ND, SD): 23\n",
      "Rocky Mountains (CO, ID, MT, UT, WY): 29\n",
      "Southwest (AZ, NM, OK, TX): 29\n"
     ]
    }
   ],
   "source": [
    "for region in regions:\n",
    "    print(f\"{region}: {all_the_rest_regions.count(region)}\")"
   ]
  },
  {
   "cell_type": "code",
   "execution_count": 106,
   "metadata": {},
   "outputs": [],
   "source": [
    "# removing the popular unis from the list in order to generate the remaining 858 apps\n",
    "all_the_rest = universities[~universities['institution_name'].isin(popular_unis)]"
   ]
  },
  {
   "cell_type": "code",
   "execution_count": 99,
   "metadata": {},
   "outputs": [
    {
     "data": {
      "text/plain": [
       "858"
      ]
     },
     "execution_count": 99,
     "metadata": {},
     "output_type": "execute_result"
    }
   ],
   "source": [
    "atr_uni_picks = []\n",
    "for region in all_the_rest_regions:\n",
    "    uni = all_the_rest[all_the_rest['region'] == region].sample(n=1)\n",
    "    atr_uni_picks.append(uni.index.item())\n",
    "len(atr_uni_picks)"
   ]
  },
  {
   "cell_type": "code",
   "execution_count": null,
   "metadata": {},
   "outputs": [
    {
     "data": {
      "text/plain": [
       "3901"
      ]
     },
     "execution_count": 101,
     "metadata": {},
     "output_type": "execute_result"
    }
   ],
   "source": [
    "# concatenating and shuffling the list of applications\n",
    "all_applied_unis = pop_apps + atr_uni_picks\n",
    "random.shuffle(all_applied_unis)\n",
    "len(all_applied_unis)\n"
   ]
  },
  {
   "cell_type": "code",
   "execution_count": null,
   "metadata": {},
   "outputs": [
    {
     "data": {
      "text/html": [
       "<div>\n",
       "<style scoped>\n",
       "    .dataframe tbody tr th:only-of-type {\n",
       "        vertical-align: middle;\n",
       "    }\n",
       "\n",
       "    .dataframe tbody tr th {\n",
       "        vertical-align: top;\n",
       "    }\n",
       "\n",
       "    .dataframe thead th {\n",
       "        text-align: right;\n",
       "    }\n",
       "</style>\n",
       "<table border=\"1\" class=\"dataframe\">\n",
       "  <thead>\n",
       "    <tr style=\"text-align: right;\">\n",
       "      <th></th>\n",
       "      <th>university_id</th>\n",
       "    </tr>\n",
       "  </thead>\n",
       "  <tbody>\n",
       "    <tr>\n",
       "      <th>1</th>\n",
       "      <td>131496</td>\n",
       "    </tr>\n",
       "    <tr>\n",
       "      <th>2</th>\n",
       "      <td>164924</td>\n",
       "    </tr>\n",
       "    <tr>\n",
       "      <th>3</th>\n",
       "      <td>186131</td>\n",
       "    </tr>\n",
       "    <tr>\n",
       "      <th>4</th>\n",
       "      <td>161004</td>\n",
       "    </tr>\n",
       "    <tr>\n",
       "      <th>5</th>\n",
       "      <td>159568</td>\n",
       "    </tr>\n",
       "  </tbody>\n",
       "</table>\n",
       "</div>"
      ],
      "text/plain": [
       "   university_id\n",
       "1         131496\n",
       "2         164924\n",
       "3         186131\n",
       "4         161004\n",
       "5         159568"
      ]
     },
     "execution_count": 102,
     "metadata": {},
     "output_type": "execute_result"
    }
   ],
   "source": [
    "# converting into a dataframe\n",
    "applications = pd.DataFrame(all_applied_unis, columns=['university_id'])\n",
    "applications.index += 1\n",
    "applications.head()"
   ]
  },
  {
   "cell_type": "code",
   "execution_count": null,
   "metadata": {},
   "outputs": [
    {
     "data": {
      "text/html": [
       "<div>\n",
       "<style scoped>\n",
       "    .dataframe tbody tr th:only-of-type {\n",
       "        vertical-align: middle;\n",
       "    }\n",
       "\n",
       "    .dataframe tbody tr th {\n",
       "        vertical-align: top;\n",
       "    }\n",
       "\n",
       "    .dataframe thead th {\n",
       "        text-align: right;\n",
       "    }\n",
       "</style>\n",
       "<table border=\"1\" class=\"dataframe\">\n",
       "  <thead>\n",
       "    <tr style=\"text-align: right;\">\n",
       "      <th></th>\n",
       "      <th>university_id</th>\n",
       "      <th>admitted</th>\n",
       "    </tr>\n",
       "  </thead>\n",
       "  <tbody>\n",
       "    <tr>\n",
       "      <th>1</th>\n",
       "      <td>131496</td>\n",
       "      <td>0</td>\n",
       "    </tr>\n",
       "    <tr>\n",
       "      <th>2</th>\n",
       "      <td>164924</td>\n",
       "      <td>0</td>\n",
       "    </tr>\n",
       "    <tr>\n",
       "      <th>3</th>\n",
       "      <td>186131</td>\n",
       "      <td>0</td>\n",
       "    </tr>\n",
       "    <tr>\n",
       "      <th>4</th>\n",
       "      <td>161004</td>\n",
       "      <td>0</td>\n",
       "    </tr>\n",
       "    <tr>\n",
       "      <th>5</th>\n",
       "      <td>159568</td>\n",
       "      <td>1</td>\n",
       "    </tr>\n",
       "  </tbody>\n",
       "</table>\n",
       "</div>"
      ],
      "text/plain": [
       "   university_id  admitted\n",
       "1         131496         0\n",
       "2         164924         0\n",
       "3         186131         0\n",
       "4         161004         0\n",
       "5         159568         1"
      ]
     },
     "execution_count": 103,
     "metadata": {},
     "output_type": "execute_result"
    }
   ],
   "source": [
    "# randomizing admission status\n",
    "def admit(university_id):\n",
    "    percent = universities.loc[university_id]['percent_admitted'].item()\n",
    "    return random.randrange(0,100) <= percent\n",
    "\n",
    "admissions = []\n",
    "for i in range(len(all_applied_unis)):\n",
    "    admissions.append(int(admit(all_applied_unis[i])))\n",
    "applications.insert(1, 'admitted', admissions)\n",
    "applications.head()"
   ]
  },
  {
   "cell_type": "code",
   "execution_count": null,
   "metadata": {},
   "outputs": [
    {
     "data": {
      "text/html": [
       "<div>\n",
       "<style scoped>\n",
       "    .dataframe tbody tr th:only-of-type {\n",
       "        vertical-align: middle;\n",
       "    }\n",
       "\n",
       "    .dataframe tbody tr th {\n",
       "        vertical-align: top;\n",
       "    }\n",
       "\n",
       "    .dataframe thead th {\n",
       "        text-align: right;\n",
       "    }\n",
       "</style>\n",
       "<table border=\"1\" class=\"dataframe\">\n",
       "  <thead>\n",
       "    <tr style=\"text-align: right;\">\n",
       "      <th></th>\n",
       "      <th>university_id</th>\n",
       "      <th>admitted</th>\n",
       "      <th>ed</th>\n",
       "      <th>rd</th>\n",
       "    </tr>\n",
       "  </thead>\n",
       "  <tbody>\n",
       "    <tr>\n",
       "      <th>1</th>\n",
       "      <td>131496</td>\n",
       "      <td>0</td>\n",
       "      <td>0</td>\n",
       "      <td>1</td>\n",
       "    </tr>\n",
       "    <tr>\n",
       "      <th>2</th>\n",
       "      <td>164924</td>\n",
       "      <td>0</td>\n",
       "      <td>0</td>\n",
       "      <td>1</td>\n",
       "    </tr>\n",
       "    <tr>\n",
       "      <th>3</th>\n",
       "      <td>186131</td>\n",
       "      <td>0</td>\n",
       "      <td>1</td>\n",
       "      <td>0</td>\n",
       "    </tr>\n",
       "    <tr>\n",
       "      <th>4</th>\n",
       "      <td>161004</td>\n",
       "      <td>0</td>\n",
       "      <td>0</td>\n",
       "      <td>1</td>\n",
       "    </tr>\n",
       "    <tr>\n",
       "      <th>5</th>\n",
       "      <td>159568</td>\n",
       "      <td>1</td>\n",
       "      <td>1</td>\n",
       "      <td>0</td>\n",
       "    </tr>\n",
       "  </tbody>\n",
       "</table>\n",
       "</div>"
      ],
      "text/plain": [
       "   university_id  admitted  ed  rd\n",
       "1         131496         0   0   1\n",
       "2         164924         0   0   1\n",
       "3         186131         0   1   0\n",
       "4         161004         0   0   1\n",
       "5         159568         1   1   0"
      ]
     },
     "execution_count": 104,
     "metadata": {},
     "output_type": "execute_result"
    }
   ],
   "source": [
    "# randomizing early decision vs regular decision\n",
    "early = [1 for i in range(536)]\n",
    "regular = [0 for i in range(3901-536)]\n",
    "decisions = early + regular\n",
    "random.shuffle(decisions)\n",
    "applications.insert(2, 'ed', decisions)\n",
    "applications.insert(3, 'rd', [int(not elem) for elem in decisions])\n",
    "applications.head()"
   ]
  },
  {
   "cell_type": "code",
   "execution_count": null,
   "metadata": {},
   "outputs": [],
   "source": [
    "# generating 4-digit student IDs\n",
    "student_ids = random.sample(range(1000,10000), 536)"
   ]
  },
  {
   "cell_type": "code",
   "execution_count": null,
   "metadata": {},
   "outputs": [],
   "source": [
    "# randomly selecting how many regular decision apps each student makes\n",
    "# app nums are total apps made minus 1 since all students do one ED app\n",
    "app_nums = [0, 1, 2, 3, 4, 5, 6, \n",
    "            7, 8, 9, 10, 11, 12, 13, 14]\n",
    "app_distribution = [.1, .02, .03, .02, .06, .17, .16, \n",
    "                    .11, .09, .07, .04, .04, .03, .03, .03]\n",
    "\n",
    "student_rd_apps = []\n",
    "for id in student_ids:\n",
    "    apps = random.choices(population = app_nums, weights=app_distribution, k=1)\n",
    "    if apps[-1] > 0:\n",
    "        for i in range(apps[-1]):\n",
    "            student_rd_apps.append(id)\n"
   ]
  },
  {
   "cell_type": "code",
   "execution_count": null,
   "metadata": {},
   "outputs": [],
   "source": [
    "# organizing and combining the two kinds of applications\n",
    "ids_copy = student_ids.copy()\n",
    "random.shuffle(student_rd_apps)\n",
    "student_apps = []\n",
    "for i in range(3901):\n",
    "    if decisions[i] == 1:\n",
    "        student_apps.append(ids_copy.pop())\n",
    "    else:\n",
    "        student_apps.append(student_rd_apps.pop())"
   ]
  },
  {
   "cell_type": "code",
   "execution_count": 142,
   "metadata": {},
   "outputs": [],
   "source": [
    "applications.insert(4, 'student_ids', student_apps)"
   ]
  },
  {
   "cell_type": "code",
   "execution_count": 143,
   "metadata": {},
   "outputs": [
    {
     "data": {
      "text/html": [
       "<div>\n",
       "<style scoped>\n",
       "    .dataframe tbody tr th:only-of-type {\n",
       "        vertical-align: middle;\n",
       "    }\n",
       "\n",
       "    .dataframe tbody tr th {\n",
       "        vertical-align: top;\n",
       "    }\n",
       "\n",
       "    .dataframe thead th {\n",
       "        text-align: right;\n",
       "    }\n",
       "</style>\n",
       "<table border=\"1\" class=\"dataframe\">\n",
       "  <thead>\n",
       "    <tr style=\"text-align: right;\">\n",
       "      <th></th>\n",
       "      <th>university_id</th>\n",
       "      <th>admitted</th>\n",
       "      <th>ed</th>\n",
       "      <th>rd</th>\n",
       "      <th>student_ids</th>\n",
       "    </tr>\n",
       "  </thead>\n",
       "  <tbody>\n",
       "    <tr>\n",
       "      <th>1</th>\n",
       "      <td>131496</td>\n",
       "      <td>0</td>\n",
       "      <td>0</td>\n",
       "      <td>1</td>\n",
       "      <td>7075</td>\n",
       "    </tr>\n",
       "    <tr>\n",
       "      <th>2</th>\n",
       "      <td>164924</td>\n",
       "      <td>0</td>\n",
       "      <td>0</td>\n",
       "      <td>1</td>\n",
       "      <td>6094</td>\n",
       "    </tr>\n",
       "    <tr>\n",
       "      <th>3</th>\n",
       "      <td>186131</td>\n",
       "      <td>0</td>\n",
       "      <td>1</td>\n",
       "      <td>0</td>\n",
       "      <td>3694</td>\n",
       "    </tr>\n",
       "    <tr>\n",
       "      <th>4</th>\n",
       "      <td>161004</td>\n",
       "      <td>0</td>\n",
       "      <td>0</td>\n",
       "      <td>1</td>\n",
       "      <td>7765</td>\n",
       "    </tr>\n",
       "    <tr>\n",
       "      <th>5</th>\n",
       "      <td>159568</td>\n",
       "      <td>1</td>\n",
       "      <td>1</td>\n",
       "      <td>0</td>\n",
       "      <td>2185</td>\n",
       "    </tr>\n",
       "  </tbody>\n",
       "</table>\n",
       "</div>"
      ],
      "text/plain": [
       "   university_id  admitted  ed  rd  student_ids\n",
       "1         131496         0   0   1         7075\n",
       "2         164924         0   0   1         6094\n",
       "3         186131         0   1   0         3694\n",
       "4         161004         0   0   1         7765\n",
       "5         159568         1   1   0         2185"
      ]
     },
     "execution_count": 143,
     "metadata": {},
     "output_type": "execute_result"
    }
   ],
   "source": [
    "applications.head()"
   ]
  },
  {
   "cell_type": "markdown",
   "metadata": {},
   "source": [
    "below cells were purely for exporting the data so I could load it into the google sheet"
   ]
  },
  {
   "cell_type": "code",
   "execution_count": 144,
   "metadata": {},
   "outputs": [],
   "source": [
    "applications.to_csv('applications.csv', index=True)"
   ]
  },
  {
   "cell_type": "code",
   "execution_count": 145,
   "metadata": {},
   "outputs": [],
   "source": [
    "import csv\n",
    "with open('students.csv', 'w', newline='') as myfile:\n",
    "     wr = csv.writer(myfile, quoting=csv.QUOTE_ALL)\n",
    "     wr.writerow(student_ids)"
   ]
  }
 ],
 "metadata": {
  "kernelspec": {
   "display_name": "islp",
   "language": "python",
   "name": "python3"
  },
  "language_info": {
   "codemirror_mode": {
    "name": "ipython",
    "version": 3
   },
   "file_extension": ".py",
   "mimetype": "text/x-python",
   "name": "python",
   "nbconvert_exporter": "python",
   "pygments_lexer": "ipython3",
   "version": "3.12.5"
  }
 },
 "nbformat": 4,
 "nbformat_minor": 2
}
